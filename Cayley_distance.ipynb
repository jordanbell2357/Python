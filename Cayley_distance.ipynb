{
  "nbformat": 4,
  "nbformat_minor": 0,
  "metadata": {
    "colab": {
      "provenance": [],
      "authorship_tag": "ABX9TyNl+5Dx92GVUHPmycZVeab5",
      "include_colab_link": true
    },
    "kernelspec": {
      "name": "python3",
      "display_name": "Python 3"
    },
    "language_info": {
      "name": "python"
    }
  },
  "cells": [
    {
      "cell_type": "markdown",
      "metadata": {
        "id": "view-in-github",
        "colab_type": "text"
      },
      "source": [
        "<a href=\"https://colab.research.google.com/github/jordanbell2357/python/blob/main/Cayley_distance.ipynb\" target=\"_parent\"><img src=\"https://colab.research.google.com/assets/colab-badge.svg\" alt=\"Open In Colab\"/></a>"
      ]
    },
    {
      "cell_type": "code",
      "execution_count": 8,
      "metadata": {
        "colab": {
          "base_uri": "https://localhost:8080/"
        },
        "id": "nGJlboIYmOhj",
        "outputId": "9f25dc5a-67cf-4c07-c2d3-d0278fa94752"
      },
      "outputs": [
        {
          "output_type": "stream",
          "name": "stdout",
          "text": [
            "[[0, 2, 1], [3, 4], [5, 7]]\n"
          ]
        }
      ],
      "source": [
        "def cycle_decomposition(perm):\n",
        "    \"\"\"Decomposes a permutation into disjoint cycles.\"\"\"\n",
        "    n = len(perm)\n",
        "    visited = [False] * n\n",
        "    cycles = []\n",
        "\n",
        "    for i in range(n):\n",
        "        if not visited[i]:\n",
        "            cycle = []\n",
        "            while not visited[i]:\n",
        "                cycle.append(i)\n",
        "                visited[i] = True\n",
        "                i = perm[i]\n",
        "            if len(cycle) > 1:\n",
        "                cycles.append(cycle)\n",
        "    return cycles\n",
        "\n",
        "\n",
        "perm = [2, 0, 1, 4, 3, 7, 6, 5]\n",
        "print(cycle_decomposition(perm))"
      ]
    },
    {
      "cell_type": "code",
      "source": [
        "def cayley_distance_and_sort(perm):\n",
        "    \"\"\"Calculates the Cayley distance and sorts the permutation with minimal transpositions.\"\"\"\n",
        "    cycles = cycle_decomposition(perm)\n",
        "\n",
        "    cayley_distance = 0 # Cayley distance is n - c: len(perm) - len(cycles)\n",
        "\n",
        "    transpositions = []\n",
        "    sorted_perm = perm[:]  # Make a mutable copy of the permutation\n",
        "\n",
        "    for cycle in cycles:\n",
        "        # Break each cycle into singletons with transpositions\n",
        "        for i in range(1, len(cycle)):\n",
        "            # Transpose elements to break the cycle\n",
        "            transpositions.append((cycle[0], cycle[i]))\n",
        "            sorted_perm[cycle[0]], sorted_perm[cycle[i]] = sorted_perm[cycle[i]], sorted_perm[cycle[0]]\n",
        "            cayley_distance += 1\n",
        "\n",
        "    return cayley_distance, transpositions, sorted_perm\n",
        "\n",
        "\n",
        "# Example Usage\n",
        "perm = [2, 0, 1, 4, 3, 7, 6, 5]  # Permutation\n",
        "cayley_distance, transpositions, sorted_perm = cayley_distance_and_sort(perm)\n",
        "\n",
        "print(\"Permutation:\", perm)\n",
        "print(\"Cayley distance:\", cayley_distance)\n",
        "print(\"Transpositions performed:\", transpositions)\n",
        "print(\"Sorted permutation:\", sorted_perm)"
      ],
      "metadata": {
        "colab": {
          "base_uri": "https://localhost:8080/"
        },
        "id": "W5RSA9dWoTWk",
        "outputId": "3fb77620-4b7e-490c-a47d-9dd2adf48a32"
      },
      "execution_count": 13,
      "outputs": [
        {
          "output_type": "stream",
          "name": "stdout",
          "text": [
            "Permutation: [2, 0, 1, 4, 3, 7, 6, 5]\n",
            "Cayley distance: 4\n",
            "Transpositions performed: [(0, 2), (0, 1), (3, 4), (5, 7)]\n",
            "Sorted permutation: [0, 1, 2, 3, 4, 5, 6, 7]\n"
          ]
        }
      ]
    },
    {
      "cell_type": "code",
      "source": [],
      "metadata": {
        "id": "PpuB-XdGn8pf"
      },
      "execution_count": null,
      "outputs": []
    }
  ]
}